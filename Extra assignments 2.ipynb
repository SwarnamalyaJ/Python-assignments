{
 "cells": [
  {
   "cell_type": "code",
   "execution_count": 1,
   "id": "c528ac46",
   "metadata": {},
   "outputs": [
    {
     "name": "stdout",
     "output_type": "stream",
     "text": [
      "0\n",
      "1\n",
      "2\n",
      "3\n",
      "4\n",
      "5\n",
      "6\n",
      "7\n",
      "8\n",
      "9\n",
      "10\n",
      "11\n",
      "12\n",
      "13\n",
      "14\n",
      "15\n",
      "16\n",
      "17\n",
      "18\n",
      "19\n"
     ]
    }
   ],
   "source": [
    "for num in range(0,20):\n",
    "    print(num)"
   ]
  },
  {
   "cell_type": "code",
   "execution_count": 2,
   "id": "9969b0de",
   "metadata": {},
   "outputs": [
    {
     "name": "stdout",
     "output_type": "stream",
     "text": [
      "10\n",
      "11\n",
      "12\n",
      "13\n",
      "14\n",
      "15\n",
      "16\n",
      "17\n",
      "18\n",
      "19\n"
     ]
    }
   ],
   "source": [
    "for num in range(10,20):\n",
    "    print(num)"
   ]
  },
  {
   "cell_type": "code",
   "execution_count": 3,
   "id": "eeaba36b",
   "metadata": {},
   "outputs": [
    {
     "name": "stdout",
     "output_type": "stream",
     "text": [
      "[10, 20, 14, 55, 43, 87, 76]\n",
      "Number of items in Lists2:\n",
      "7\n"
     ]
    }
   ],
   "source": [
    "Lists2=[10,20,14,55,43,87,76]\n",
    "print(Lists2)\n",
    "print(\"Number of items in Lists2:\")\n",
    "print(len(Lists2))"
   ]
  },
  {
   "cell_type": "code",
   "execution_count": 4,
   "id": "6e80093a",
   "metadata": {},
   "outputs": [
    {
     "name": "stdout",
     "output_type": "stream",
     "text": [
      "ARTIFICIAL INTELLIGENCE\n",
      "A\n",
      "R\n",
      "T\n",
      "I\n",
      "F\n",
      "I\n",
      "C\n",
      "I\n",
      "A\n",
      "L\n",
      " \n",
      "I\n",
      "N\n",
      "T\n",
      "E\n",
      "L\n",
      "L\n",
      "I\n",
      "G\n",
      "E\n",
      "N\n",
      "C\n",
      "E\n"
     ]
    }
   ],
   "source": [
    "text=\"ARTIFICIAL INTELLIGENCE\"\n",
    "print(text)\n",
    "for temp in text:\n",
    "    print(temp)"
   ]
  },
  {
   "cell_type": "code",
   "execution_count": 5,
   "id": "88fe7db4",
   "metadata": {},
   "outputs": [
    {
     "name": "stdout",
     "output_type": "stream",
     "text": [
      "Your name\n",
      "Your age\n",
      "Your profession\n"
     ]
    }
   ],
   "source": [
    "print(\"Your name\")\n",
    "print(\"Your age\")\n",
    "print(\"Your profession\")"
   ]
  },
  {
   "cell_type": "code",
   "execution_count": 6,
   "id": "9fe57c85",
   "metadata": {},
   "outputs": [
    {
     "name": "stdout",
     "output_type": "stream",
     "text": [
      "(1, 'welcome', 2, 'Hope')\n"
     ]
    }
   ],
   "source": [
    "TupleA=(1,'welcome',2,'Hope')\n",
    "print(TupleA)"
   ]
  },
  {
   "cell_type": "code",
   "execution_count": 7,
   "id": "b97b59ac",
   "metadata": {},
   "outputs": [
    {
     "name": "stdout",
     "output_type": "stream",
     "text": [
      "((0, 1, 2, 3), ('Python', 'Hope'))\n"
     ]
    }
   ],
   "source": [
    "TupleA=(0,1,2,3)\n",
    "TupleB=('Python','Hope')\n",
    "TupleC=(TupleA,TupleB)\n",
    "print(TupleC)"
   ]
  },
  {
   "cell_type": "code",
   "execution_count": 8,
   "id": "81e2ba67",
   "metadata": {},
   "outputs": [
    {
     "name": "stdout",
     "output_type": "stream",
     "text": [
      "Enter the number is Odd/Even=31\n",
      "Odd Number\n"
     ]
    }
   ],
   "source": [
    "Number=int(input(\"Enter the number is Odd/Even=\"))\n",
    "if(Number%2)==0:\n",
    "    print(\"Even Number\")\n",
    "else:\n",
    "    print(\"Odd Number\")"
   ]
  },
  {
   "cell_type": "code",
   "execution_count": 9,
   "id": "e8600201",
   "metadata": {},
   "outputs": [
    {
     "name": "stdout",
     "output_type": "stream",
     "text": [
      "20 is Even\n",
      "10 is Even\n",
      "16 is Even\n",
      "19 is odd\n",
      "25 is odd\n",
      "1 is odd\n",
      "276 is Even\n",
      "188 is Even\n"
     ]
    }
   ],
   "source": [
    "Lists=[20,10,16,19,25,1,276,188]\n",
    "for a in Lists:\n",
    "    if a%2==0:\n",
    "        print(a,\"is Even\")\n",
    "    else:\n",
    "        print(a,\"is odd\")"
   ]
  },
  {
   "cell_type": "code",
   "execution_count": null,
   "id": "ba0b9371",
   "metadata": {},
   "outputs": [],
   "source": []
  }
 ],
 "metadata": {
  "kernelspec": {
   "display_name": "Python 3 (ipykernel)",
   "language": "python",
   "name": "python3"
  },
  "language_info": {
   "codemirror_mode": {
    "name": "ipython",
    "version": 3
   },
   "file_extension": ".py",
   "mimetype": "text/x-python",
   "name": "python",
   "nbconvert_exporter": "python",
   "pygments_lexer": "ipython3",
   "version": "3.11.5"
  }
 },
 "nbformat": 4,
 "nbformat_minor": 5
}
