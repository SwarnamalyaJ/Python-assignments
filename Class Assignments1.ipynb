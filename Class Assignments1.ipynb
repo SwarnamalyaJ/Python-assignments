{
 "cells": [
  {
   "cell_type": "code",
   "execution_count": 2,
   "id": "c998be5e",
   "metadata": {},
   "outputs": [],
   "source": [
    "class Oddeven():\n",
    "    def oddEven():\n",
    "        if(Number%2)==0:\n",
    "            message=print(Number,\"Even Number\")\n",
    "        else:\n",
    "            message=print(Number,\"Odd Number\")\n",
    "        return message\n",
    "    "
   ]
  },
  {
   "cell_type": "code",
   "execution_count": 4,
   "id": "fa7da5dc",
   "metadata": {},
   "outputs": [
    {
     "name": "stdout",
     "output_type": "stream",
     "text": [
      "Enter the number is Odd/Even=54532\n",
      "54532 Even Number\n"
     ]
    }
   ],
   "source": [
    "Number=int(input(\"Enter the number is Odd/Even=\"))\n",
    "Oddeven.oddEven()"
   ]
  },
  {
   "cell_type": "code",
   "execution_count": 1,
   "id": "e8bc482c",
   "metadata": {},
   "outputs": [],
   "source": [
    "class EligibleforMarriage():\n",
    "    def EligibleforMarriage():\n",
    "        Gender=input(\"Your Gender:\")\n",
    "        Age=int(input(\"Enter your age:\"))\n",
    "        if (Gender==\"Male\" and Age>21):\n",
    "            message=print(\"Eligible\")\n",
    "        elif (Gender==\"Female\" and Age>18): \n",
    "            message=print(\"Eligible\")             \n",
    "        else:\n",
    "            message=print(\"Not Eligible\")\n",
    "            return message"
   ]
  },
  {
   "cell_type": "code",
   "execution_count": 2,
   "id": "c5be3f03",
   "metadata": {},
   "outputs": [
    {
     "name": "stdout",
     "output_type": "stream",
     "text": [
      "Your Gender:Male\n",
      "Enter your age:20\n",
      "Not Eligible\n"
     ]
    }
   ],
   "source": [
    "EligibleforMarriage.EligibleforMarriage()"
   ]
  },
  {
   "cell_type": "code",
   "execution_count": 3,
   "id": "6d08b052",
   "metadata": {},
   "outputs": [],
   "source": [
    "class SubfieldsinAI():\n",
    "    def Subfields():\n",
    "        print(\"Sub-fields in AI are:\")\n",
    "        List=['Machine Learning', 'Neural Networks', 'Vision', 'Robotics', 'Speech Processing', 'Natural Language Processing']\n",
    "        for temp in List:\n",
    "            print(temp)"
   ]
  },
  {
   "cell_type": "code",
   "execution_count": 4,
   "id": "6726d04a",
   "metadata": {},
   "outputs": [
    {
     "name": "stdout",
     "output_type": "stream",
     "text": [
      "Sub-fields in AI are:\n",
      "Machine Learning\n",
      "Neural Networks\n",
      "Vision\n",
      "Robotics\n",
      "Speech Processing\n",
      "Natural Language Processing\n"
     ]
    }
   ],
   "source": [
    "SubfieldsinAI.Subfields()"
   ]
  },
  {
   "cell_type": "code",
   "execution_count": 5,
   "id": "0c275ae0",
   "metadata": {},
   "outputs": [],
   "source": [
    "class Findpercentage():\n",
    "    def  Tenthpercentage():\n",
    "        sub1=int(input(\"Subject1:\"))\n",
    "        sub2=int(input(\"Subject2:\"))\n",
    "        sub3=int(input(\"Subject3:\"))\n",
    "        sub4=int(input(\"Subject4:\"))\n",
    "        sub5=int(input(\"Subject5:\"))\n",
    "        total=(sub1+sub2+sub3+sub4+sub5)\n",
    "        print(\"Total:\",total)\n",
    "        percentage=(total/5)\n",
    "        print(\"Percentage\",percentage)\n",
    "        return percentage"
   ]
  },
  {
   "cell_type": "code",
   "execution_count": 6,
   "id": "83552142",
   "metadata": {},
   "outputs": [
    {
     "name": "stdout",
     "output_type": "stream",
     "text": [
      "Subject1:98\n",
      "Subject2:95\n",
      "Subject3:93\n",
      "Subject4:95\n",
      "Subject5:87\n",
      "Total: 468\n",
      "Percentage 93.6\n"
     ]
    },
    {
     "data": {
      "text/plain": [
       "93.6"
      ]
     },
     "execution_count": 6,
     "metadata": {},
     "output_type": "execute_result"
    }
   ],
   "source": [
    "Findpercentage.Tenthpercentage()"
   ]
  },
  {
   "cell_type": "code",
   "execution_count": 7,
   "id": "f75b1e03",
   "metadata": {},
   "outputs": [],
   "source": [
    " class mathtriangle():\n",
    "    def triangle():\n",
    "        Height=int(input(\"Height=\"))\n",
    "        Breadth=int(input(\"Breadth\"))\n",
    "        area=Height*Breadth/2\n",
    "        print(\"Areaoftriangle=\",area)\n",
    "        Height1=int(input(\"Height1=\"))\n",
    "        Height2=int(input(\"Height2=\"))\n",
    "        Breadth=int(input(\"Breadth\"))\n",
    "        perimeter=Height1+Height2+Breadth\n",
    "        print(\"Perimeteroftriangle=\",perimeter)"
   ]
  },
  {
   "cell_type": "code",
   "execution_count": 8,
   "id": "b841720b",
   "metadata": {},
   "outputs": [
    {
     "name": "stdout",
     "output_type": "stream",
     "text": [
      "Height=34\n",
      "Breadth32\n",
      "Areaoftriangle= 544.0\n",
      "Height1=2\n",
      "Height2=4\n",
      "Breadth4\n",
      "Perimeteroftriangle= 10\n"
     ]
    }
   ],
   "source": [
    "mathtriangle.triangle()"
   ]
  },
  {
   "cell_type": "code",
   "execution_count": null,
   "id": "8f4c0de3",
   "metadata": {},
   "outputs": [],
   "source": []
  }
 ],
 "metadata": {
  "kernelspec": {
   "display_name": "Python 3 (ipykernel)",
   "language": "python",
   "name": "python3"
  },
  "language_info": {
   "codemirror_mode": {
    "name": "ipython",
    "version": 3
   },
   "file_extension": ".py",
   "mimetype": "text/x-python",
   "name": "python",
   "nbconvert_exporter": "python",
   "pygments_lexer": "ipython3",
   "version": "3.11.5"
  }
 },
 "nbformat": 4,
 "nbformat_minor": 5
}
