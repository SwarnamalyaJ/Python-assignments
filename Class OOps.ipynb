{
 "cells": [
  {
   "cell_type": "code",
   "execution_count": 16,
   "id": "9dbcadda",
   "metadata": {},
   "outputs": [],
   "source": [
    "from Multiplefunctions import multiplefunction"
   ]
  },
  {
   "cell_type": "code",
   "execution_count": 18,
   "id": "3ae10081",
   "metadata": {},
   "outputs": [
    {
     "name": "stdout",
     "output_type": "stream",
     "text": [
      "Your Gender:Male\n",
      "Enter your age:20\n",
      "Not Eligible\n"
     ]
    }
   ],
   "source": [
    "multiplefunction.EligibleforMarriage()"
   ]
  },
  {
   "cell_type": "code",
   "execution_count": null,
   "id": "b248ad6d",
   "metadata": {},
   "outputs": [],
   "source": []
  }
 ],
 "metadata": {
  "kernelspec": {
   "display_name": "Python 3 (ipykernel)",
   "language": "python",
   "name": "python3"
  },
  "language_info": {
   "codemirror_mode": {
    "name": "ipython",
    "version": 3
   },
   "file_extension": ".py",
   "mimetype": "text/x-python",
   "name": "python",
   "nbconvert_exporter": "python",
   "pygments_lexer": "ipython3",
   "version": "3.11.5"
  }
 },
 "nbformat": 4,
 "nbformat_minor": 5
}
