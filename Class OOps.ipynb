{
 "cells": [
  {
   "cell_type": "code",
   "execution_count": 1,
   "id": "2c659d72",
   "metadata": {},
   "outputs": [],
   "source": [
    "from Finalassign import multiplefunction"
   ]
  },
  {
   "cell_type": "code",
   "execution_count": 2,
   "id": "184f7120",
   "metadata": {},
   "outputs": [
    {
     "name": "stdout",
     "output_type": "stream",
     "text": [
      "Your Gender:Male\n",
      "Enter your age:20\n",
      "Not Eligible\n"
     ]
    }
   ],
   "source": [
    "multiplefunction.EligibleforMarriage()"
   ]
  },
  {
   "cell_type": "code",
   "execution_count": 4,
   "id": "ca4e65c4",
   "metadata": {},
   "outputs": [
    {
     "name": "stdout",
     "output_type": "stream",
     "text": [
      "Enter the number is Odd/Even=54324\n",
      "54324 Even Number\n"
     ]
    }
   ],
   "source": [
    "multiplefunction.oddEven()"
   ]
  },
  {
   "cell_type": "code",
   "execution_count": 5,
   "id": "51d2a948",
   "metadata": {},
   "outputs": [
    {
     "name": "stdout",
     "output_type": "stream",
     "text": [
      "Sub-fields in AI are:\n",
      "Machine Learning\n",
      "Neural Networks\n",
      "Vision\n",
      "Robotics\n",
      "Speech Processing\n",
      "Natural Language Processing\n"
     ]
    }
   ],
   "source": [
    "multiplefunction. Subfields()"
   ]
  },
  {
   "cell_type": "code",
   "execution_count": 6,
   "id": "556c16c3",
   "metadata": {},
   "outputs": [
    {
     "name": "stdout",
     "output_type": "stream",
     "text": [
      "Subject1:98\n",
      "Subject2:87\n",
      "Subject3:95\n",
      "Subject4:95\n",
      "Subject5:93\n",
      "Total: 468\n",
      "Percentage 93.6\n"
     ]
    },
    {
     "data": {
      "text/plain": [
       "93.6"
      ]
     },
     "execution_count": 6,
     "metadata": {},
     "output_type": "execute_result"
    }
   ],
   "source": [
    "multiplefunction.Tenthpercentage()"
   ]
  },
  {
   "cell_type": "code",
   "execution_count": 8,
   "id": "d6fee6d2",
   "metadata": {},
   "outputs": [
    {
     "name": "stdout",
     "output_type": "stream",
     "text": [
      "Height=34\n",
      "Breadth32\n",
      "Areaoftriangle= 544.0\n",
      "Height1=2\n",
      "Height2=4\n",
      "Breadth4\n",
      "Perimeteroftriangle= 10\n"
     ]
    }
   ],
   "source": [
    "multiplefunction.triangle()"
   ]
  },
  {
   "cell_type": "code",
   "execution_count": null,
   "id": "986b735c",
   "metadata": {},
   "outputs": [],
   "source": []
  }
 ],
 "metadata": {
  "kernelspec": {
   "display_name": "Python 3 (ipykernel)",
   "language": "python",
   "name": "python3"
  },
  "language_info": {
   "codemirror_mode": {
    "name": "ipython",
    "version": 3
   },
   "file_extension": ".py",
   "mimetype": "text/x-python",
   "name": "python",
   "nbconvert_exporter": "python",
   "pygments_lexer": "ipython3",
   "version": "3.11.5"
  }
 },
 "nbformat": 4,
 "nbformat_minor": 5
}
