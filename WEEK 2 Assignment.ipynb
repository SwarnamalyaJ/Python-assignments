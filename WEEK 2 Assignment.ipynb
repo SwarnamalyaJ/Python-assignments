{
 "cells": [
  {
   "cell_type": "code",
   "execution_count": 1,
   "id": "2c3b9964",
   "metadata": {},
   "outputs": [
    {
     "name": "stdout",
     "output_type": "stream",
     "text": [
      "Welcome to Assignment-1\n"
     ]
    }
   ],
   "source": [
    "print(\"Welcome to Assignment-1\")"
   ]
  },
  {
   "cell_type": "code",
   "execution_count": 3,
   "id": "180587ff",
   "metadata": {},
   "outputs": [
    {
     "name": "stdout",
     "output_type": "stream",
     "text": [
      "Num1= 10\n",
      "Num2= 30\n",
      "Add= 40\n"
     ]
    }
   ],
   "source": [
    "Num1=10\n",
    "print(\"Num1=\",Num1)\n",
    "Num2=30\n",
    "print(\"Num2=\",Num2)\n",
    "Add=Num1+Num2\n",
    "print(\"Add=\",Add)\n"
   ]
  },
  {
   "cell_type": "code",
   "execution_count": 16,
   "id": "9354c714",
   "metadata": {},
   "outputs": [
    {
     "name": "stdout",
     "output_type": "stream",
     "text": [
      "Enter the BMI Index:34\n",
      "Very overweight\n"
     ]
    }
   ],
   "source": [
    "BMI=int(input(\"Enter the BMI Index:\"))\n",
    "if BMI<19:\n",
    "    print(\"Under weight\")\n",
    "elif BMI<25:\n",
    "    print(\"Normal weight\")\n",
    "elif BMI<30:\n",
    "    print(\"Over weight\")\n",
    "else:\n",
    "     print(\"Very overweight\")"
   ]
  },
  {
   "cell_type": "code",
   "execution_count": 17,
   "id": "c69b538e",
   "metadata": {},
   "outputs": [
    {
     "name": "stdout",
     "output_type": "stream",
     "text": [
      "Hope AI\n"
     ]
    }
   ],
   "source": [
    "print(\"Hope AI\")"
   ]
  },
  {
   "cell_type": "code",
   "execution_count": 18,
   "id": "d992b055",
   "metadata": {},
   "outputs": [
    {
     "name": "stdout",
     "output_type": "stream",
     "text": [
      "Enter your institution name=Hope AI\n"
     ]
    },
    {
     "data": {
      "text/plain": [
       "'Hope AI'"
      ]
     },
     "execution_count": 18,
     "metadata": {},
     "output_type": "execute_result"
    }
   ],
   "source": [
    "input(\"Enter your institution name=\")"
   ]
  },
  {
   "cell_type": "code",
   "execution_count": 19,
   "id": "b08b05d8",
   "metadata": {},
   "outputs": [
    {
     "name": "stdout",
     "output_type": "stream",
     "text": [
      "Enter your name:Malya\n",
      "Enter your age=20\n",
      "Enter your school name=Hope AI\n",
      "Enter your degree=Biomedical engineering\n"
     ]
    },
    {
     "data": {
      "text/plain": [
       "'Biomedical engineering'"
      ]
     },
     "execution_count": 19,
     "metadata": {},
     "output_type": "execute_result"
    }
   ],
   "source": [
    "input(\"Enter your name:\")\n",
    "int(input(\"Enter your age=\"))\n",
    "input(\"Enter your school name=\")\n",
    "input(\"Enter your degree=\")"
   ]
  },
  {
   "cell_type": "code",
   "execution_count": 20,
   "id": "27e09493",
   "metadata": {},
   "outputs": [
    {
     "name": "stdout",
     "output_type": "stream",
     "text": [
      "a= 43\n",
      "b= 34\n",
      "Add= 77\n"
     ]
    }
   ],
   "source": [
    "a=43\n",
    "print(\"a=\",a)\n",
    "b=34\n",
    "print(\"b=\",b)\n",
    "Add=a+b\n",
    "print(\"Add=\",Add)"
   ]
  },
  {
   "cell_type": "code",
   "execution_count": 23,
   "id": "8418f40b",
   "metadata": {},
   "outputs": [
    {
     "name": "stdout",
     "output_type": "stream",
     "text": [
      "a= 43\n",
      "b= 34\n",
      "Sub= 9\n"
     ]
    }
   ],
   "source": [
    "a=43\n",
    "print(\"a=\",a)\n",
    "b=34\n",
    "print(\"b=\",b)\n",
    "Sub=a-b\n",
    "print(\"Sub=\",Sub)"
   ]
  },
  {
   "cell_type": "code",
   "execution_count": 24,
   "id": "f3aa55c5",
   "metadata": {},
   "outputs": [
    {
     "name": "stdout",
     "output_type": "stream",
     "text": [
      "a= 63\n",
      "b= 97\n",
      "Mul= 6111\n"
     ]
    }
   ],
   "source": [
    "a=63\n",
    "print(\"a=\",a)\n",
    "b=97\n",
    "print(\"b=\",b)\n",
    "Mul=a*b\n",
    "print(\"Mul=\",Mul)"
   ]
  },
  {
   "cell_type": "code",
   "execution_count": 25,
   "id": "f2737642",
   "metadata": {},
   "outputs": [
    {
     "name": "stdout",
     "output_type": "stream",
     "text": [
      "a= 76\n",
      "b= 31\n",
      "Div= 2.4516129032258065\n"
     ]
    }
   ],
   "source": [
    "a=76\n",
    "print(\"a=\",a)\n",
    "b=31\n",
    "print(\"b=\",b)\n",
    "Div=a/b\n",
    "print(\"Div=\",Div)"
   ]
  },
  {
   "cell_type": "code",
   "execution_count": 29,
   "id": "78e1d125",
   "metadata": {},
   "outputs": [
    {
     "name": "stdout",
     "output_type": "stream",
     "text": [
      "a= 76\n",
      "b= 31\n",
      "Floordiv= 2.4516129032258065\n"
     ]
    }
   ],
   "source": [
    "a=76\n",
    "print(\"a=\",a)\n",
    "b=31\n",
    "print(\"b=\",b)\n",
    "Floordiv=a//b\n",
    "print(\"Floordiv=\",Div)"
   ]
  },
  {
   "cell_type": "code",
   "execution_count": 30,
   "id": "62cc976a",
   "metadata": {},
   "outputs": [
    {
     "name": "stdout",
     "output_type": "stream",
     "text": [
      "a= 76\n",
      "b= 31\n",
      "Mod= 14\n"
     ]
    }
   ],
   "source": [
    "a=76\n",
    "print(\"a=\",a)\n",
    "b=31\n",
    "print(\"b=\",b)\n",
    "Mod=a%b\n",
    "print(\"Mod=\",Mod)"
   ]
  },
  {
   "cell_type": "code",
   "execution_count": 31,
   "id": "247867e6",
   "metadata": {},
   "outputs": [
    {
     "name": "stdout",
     "output_type": "stream",
     "text": [
      "a= 4\n",
      "b= 4\n",
      "Power= 256\n"
     ]
    }
   ],
   "source": [
    "a=4\n",
    "print(\"a=\",a)\n",
    "b=4\n",
    "print(\"b=\",b)\n",
    "Power=a**b\n",
    "print(\"Power=\",Power)"
   ]
  },
  {
   "cell_type": "code",
   "execution_count": 32,
   "id": "04713f68",
   "metadata": {},
   "outputs": [
    {
     "name": "stdout",
     "output_type": "stream",
     "text": [
      "0\n",
      "1\n",
      "2\n",
      "3\n",
      "4\n",
      "5\n",
      "6\n",
      "7\n",
      "8\n",
      "9\n",
      "10\n",
      "11\n",
      "12\n",
      "13\n",
      "14\n",
      "15\n",
      "16\n",
      "17\n",
      "18\n",
      "19\n"
     ]
    }
   ],
   "source": [
    "for num in range(0,20):\n",
    "    print(num)\n",
    "    "
   ]
  },
  {
   "cell_type": "code",
   "execution_count": 33,
   "id": "0d126c08",
   "metadata": {},
   "outputs": [
    {
     "name": "stdout",
     "output_type": "stream",
     "text": [
      "10\n",
      "11\n",
      "12\n",
      "13\n",
      "14\n",
      "15\n",
      "16\n",
      "17\n",
      "18\n",
      "19\n"
     ]
    }
   ],
   "source": [
    "for num in range(10,20):\n",
    "    print(num)"
   ]
  },
  {
   "cell_type": "code",
   "execution_count": 35,
   "id": "2139fa03",
   "metadata": {
    "scrolled": true
   },
   "outputs": [
    {
     "name": "stdout",
     "output_type": "stream",
     "text": [
      "[10, 20, 14, 55, 43, 87, 76]\n",
      "Number of items in Lists2:\n",
      "7\n"
     ]
    }
   ],
   "source": [
    "Lists2=[10,20,14,55,43,87,76]\n",
    "print(Lists2)\n",
    "print(\"Number of items in Lists2:\")\n",
    "print(len(Lists2))"
   ]
  },
  {
   "cell_type": "code",
   "execution_count": 36,
   "id": "147c363c",
   "metadata": {},
   "outputs": [
    {
     "name": "stdout",
     "output_type": "stream",
     "text": [
      "ARTIFICIAL INTELLIGENCE\n",
      "A\n",
      "R\n",
      "T\n",
      "I\n",
      "F\n",
      "I\n",
      "C\n",
      "I\n",
      "A\n",
      "L\n",
      " \n",
      "I\n",
      "N\n",
      "T\n",
      "E\n",
      "L\n",
      "L\n",
      "I\n",
      "G\n",
      "E\n",
      "N\n",
      "C\n",
      "E\n"
     ]
    }
   ],
   "source": [
    "text=\"ARTIFICIAL INTELLIGENCE\"\n",
    "print(text)\n",
    "for temp in text:\n",
    "    print(temp)"
   ]
  },
  {
   "cell_type": "code",
   "execution_count": 37,
   "id": "69b5f9e6",
   "metadata": {},
   "outputs": [
    {
     "name": "stdout",
     "output_type": "stream",
     "text": [
      "Your name:Swarnamalya\n",
      "Your age=23\n",
      "Your profession=Medical coder\n"
     ]
    },
    {
     "data": {
      "text/plain": [
       "'Medical coder'"
      ]
     },
     "execution_count": 37,
     "metadata": {},
     "output_type": "execute_result"
    }
   ],
   "source": [
    "input(\"Your name:\")\n",
    "int(input(\"Your age=\"))\n",
    "input(\"Your profession=\")"
   ]
  },
  {
   "cell_type": "code",
   "execution_count": 38,
   "id": "3c64f448",
   "metadata": {},
   "outputs": [
    {
     "name": "stdout",
     "output_type": "stream",
     "text": [
      "(1, 'welcome', 2, 'Hope')\n"
     ]
    }
   ],
   "source": [
    "TupleA=(1,'welcome',2,'Hope')\n",
    "print(TupleA)"
   ]
  },
  {
   "cell_type": "code",
   "execution_count": 39,
   "id": "90fbddfc",
   "metadata": {},
   "outputs": [
    {
     "name": "stdout",
     "output_type": "stream",
     "text": [
      "((0, 1, 2, 3), ('Python', 'Hope'))\n"
     ]
    }
   ],
   "source": [
    "TupleA=(0,1,2,3)\n",
    "TupleB=('Python','Hope')\n",
    "TupleC=(TupleA,TupleB)\n",
    "print(TupleC)"
   ]
  },
  {
   "cell_type": "code",
   "execution_count": 43,
   "id": "c813a42c",
   "metadata": {},
   "outputs": [
    {
     "name": "stdout",
     "output_type": "stream",
     "text": [
      "Enter the number is Odd/Even=31\n",
      "Odd Number\n"
     ]
    }
   ],
   "source": [
    "Number=int(input(\"Enter the number is Odd/Even=\"))\n",
    "if(Number%2)==0:\n",
    "    print(\"Even Number\")\n",
    "else:\n",
    "    print(\"Odd Number\")\n"
   ]
  },
  {
   "cell_type": "code",
   "execution_count": 49,
   "id": "53f9f63b",
   "metadata": {},
   "outputs": [
    {
     "name": "stdout",
     "output_type": "stream",
     "text": [
      "a is Even\n",
      "a is Even\n",
      "a is Even\n",
      "a is odd\n",
      "a is odd\n",
      "a is odd\n",
      "a is Even\n",
      "a is Even\n"
     ]
    }
   ],
   "source": [
    "Lists=[20,10,16,19,25,1,276,188]\n",
    "for a in Lists:\n",
    "    if a%2==0:\n",
    "        print(\"a is Even\")\n",
    "    else:\n",
    "        print(\"a is odd\")\n"
   ]
  },
  {
   "cell_type": "code",
   "execution_count": 53,
   "id": "b4647d46",
   "metadata": {},
   "outputs": [
    {
     "name": "stdout",
     "output_type": "stream",
     "text": [
      "Value:10\n",
      "correct\n"
     ]
    }
   ],
   "source": [
    "i=int(input(\"Value:\"))\n",
    "if i==10:\n",
    "    print(\"correct\")"
   ]
  },
  {
   "cell_type": "code",
   "execution_count": 58,
   "id": "eb4a44bb",
   "metadata": {},
   "outputs": [
    {
     "name": "stdout",
     "output_type": "stream",
     "text": [
      "Enter the password:Hope@123\n",
      "Yes this is correct\n"
     ]
    }
   ],
   "source": [
    "i=input(\"Enter the password:\")\n",
    "if i==\"Hope@123\":\n",
    "    print(\"Yes this is correct\")\n",
    "else:\n",
    "    print(\"NO this is wrong\")"
   ]
  },
  {
   "cell_type": "code",
   "execution_count": 65,
   "id": "c58177db",
   "metadata": {},
   "outputs": [
    {
     "name": "stdout",
     "output_type": "stream",
     "text": [
      "Enter the age:23\n",
      "Adult\n"
     ]
    }
   ],
   "source": [
    "age=int(input(\"Enter the age:\"))\n",
    "if(age<18):\n",
    "    print(\"Children\")\n",
    "elif(age<25):\n",
    "    print(\"Adult\")\n",
    "elif(age<35):\n",
    "    print(\"Citizen\")\n",
    "else:\n",
    "    print(\"Senior citizen\")"
   ]
  },
  {
   "cell_type": "code",
   "execution_count": 67,
   "id": "217856bd",
   "metadata": {},
   "outputs": [
    {
     "name": "stdout",
     "output_type": "stream",
     "text": [
      "Enter the number:3\n",
      "Positive\n"
     ]
    }
   ],
   "source": [
    "a=int(input(\"Enter the number:\"))\n",
    "if(a<0):\n",
    "    print(\"Negative\")\n",
    "else:\n",
    "    print(\"Positive\")"
   ]
  },
  {
   "cell_type": "code",
   "execution_count": 69,
   "id": "90349ef8",
   "metadata": {},
   "outputs": [
    {
     "name": "stdout",
     "output_type": "stream",
     "text": [
      "Enter the number:27\n",
      "No it is not divisible by 5\n"
     ]
    }
   ],
   "source": [
    "a=int(input(\"Enter the number:\"))\n",
    "if(a%5==0):\n",
    "    print(\"Yes it is divisible by 5\")\n",
    "else:\n",
    "    print(\"No it is not divisible by 5\")"
   ]
  },
  {
   "cell_type": "code",
   "execution_count": null,
   "id": "aaec8889",
   "metadata": {},
   "outputs": [],
   "source": []
  }
 ],
 "metadata": {
  "kernelspec": {
   "display_name": "Python 3 (ipykernel)",
   "language": "python",
   "name": "python3"
  },
  "language_info": {
   "codemirror_mode": {
    "name": "ipython",
    "version": 3
   },
   "file_extension": ".py",
   "mimetype": "text/x-python",
   "name": "python",
   "nbconvert_exporter": "python",
   "pygments_lexer": "ipython3",
   "version": "3.11.5"
  }
 },
 "nbformat": 4,
 "nbformat_minor": 5
}
