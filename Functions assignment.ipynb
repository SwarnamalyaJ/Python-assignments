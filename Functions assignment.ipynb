{
 "cells": [
  {
   "cell_type": "code",
   "execution_count": 3,
   "id": "f97ef531",
   "metadata": {},
   "outputs": [],
   "source": [
    "def Subfields():\n",
    "    field=[\"Machine Learning\",\"Neural Networks\",\"Vision\",\"Robotics\",\"Speech Processing\",\"Natural Language processing\"]\n",
    "    for field in field:\n",
    "        print(field)\n",
    "    return"
   ]
  },
  {
   "cell_type": "code",
   "execution_count": 4,
   "id": "c66445b9",
   "metadata": {},
   "outputs": [
    {
     "name": "stdout",
     "output_type": "stream",
     "text": [
      "Machine Learning\n",
      "Neural Networks\n",
      "Vision\n",
      "Robotics\n",
      "Speech Processing\n",
      "Natural Language processing\n"
     ]
    }
   ],
   "source": [
    "Subfields()"
   ]
  },
  {
   "cell_type": "code",
   "execution_count": 8,
   "id": "76f97a27",
   "metadata": {},
   "outputs": [],
   "source": [
    "def oddEven(Number):\n",
    "    if(Number%2)==0:\n",
    "        message=print(Number,\"Even Number\")\n",
    "    else:\n",
    "        message=print(Number,\"Odd Number\")\n",
    "    return message"
   ]
  },
  {
   "cell_type": "code",
   "execution_count": 9,
   "id": "a9cedbb8",
   "metadata": {},
   "outputs": [
    {
     "name": "stdout",
     "output_type": "stream",
     "text": [
      "Enter the number is Odd/Even=52452\n",
      "52452 Even Number\n"
     ]
    }
   ],
   "source": [
    "Number=int(input(\"Enter the number is Odd/Even=\"))\n",
    "oddEven(Number)"
   ]
  },
  {
   "cell_type": "code",
   "execution_count": 10,
   "id": "33045c91",
   "metadata": {},
   "outputs": [],
   "source": [
    "def EligibleforMarriage():\n",
    "    Gender=input(\"Your Gender:\")\n",
    "    Age=int(input(\"Enter your age:\"))\n",
    "    if (Gender==\"Male\" and Age>21):\n",
    "        message=print(\"Eligible\")\n",
    "    elif (Gender==\"Female\" and Age>18): \n",
    "         message=print(\"Eligible\")             \n",
    "    else:\n",
    "        message=print(\"Not Eligible\")\n",
    "    return message"
   ]
  },
  {
   "cell_type": "code",
   "execution_count": 11,
   "id": "b7d8d80a",
   "metadata": {},
   "outputs": [
    {
     "name": "stdout",
     "output_type": "stream",
     "text": [
      "Your Gender:Male\n",
      "Enter your age:20\n",
      "Not Eligible\n"
     ]
    }
   ],
   "source": [
    "EligibleforMarriage()"
   ]
  },
  {
   "cell_type": "code",
   "execution_count": 13,
   "id": "ee74a1f0",
   "metadata": {},
   "outputs": [],
   "source": [
    "def Tenthpercentage(sub1,sub2,sub3,sub4,sub5):\n",
    "    total=sub1+sub2+sub3+sub4+sub5\n",
    "    print(\"Total:\",total)\n",
    "    percentage=total/5\n",
    "    return percentage"
   ]
  },
  {
   "cell_type": "code",
   "execution_count": 14,
   "id": "77c710a1",
   "metadata": {},
   "outputs": [
    {
     "name": "stdout",
     "output_type": "stream",
     "text": [
      "Subject1:98\n",
      "Subject2:87\n",
      "Subject3:93\n",
      "Subject4:93\n",
      "Subject5:95\n",
      "Total: 466\n",
      "Total: 93.2\n"
     ]
    }
   ],
   "source": [
    "sub1=int(input(\"Subject1:\"))\n",
    "sub2=int(input(\"Subject2:\"))\n",
    "sub3=int(input(\"Subject3:\"))\n",
    "sub4=int(input(\"Subject4:\"))\n",
    "sub5=int(input(\"Subject5:\"))\n",
    "Total=Tenthpercentage(sub1,sub2,sub3,sub4,sub5)\n",
    "print(\"Total:\",Total)"
   ]
  },
  {
   "cell_type": "code",
   "execution_count": 17,
   "id": "0e277518",
   "metadata": {},
   "outputs": [],
   "source": [
    "def triangle():\n",
    "    Height=int(input(\"Height=\"))\n",
    "    Breadth=int(input(\"Breadth\"))\n",
    "    area=Height*Breadth/2\n",
    "    print(\"Areaoftriangle=\",area)\n",
    "    Height1=int(input(\"Height1=\"))\n",
    "    Height2=int(input(\"Height2=\"))\n",
    "    Breadth=int(input(\"Breadth\"))\n",
    "    perimeter=Height1+Height2+Breadth\n",
    "    print(\"Perimeteroftriangle=\",perimeter)"
   ]
  },
  {
   "cell_type": "code",
   "execution_count": 18,
   "id": "a3b396ad",
   "metadata": {},
   "outputs": [
    {
     "name": "stdout",
     "output_type": "stream",
     "text": [
      "Height=34\n",
      "Breadth32\n",
      "Areaoftriangle= 544.0\n",
      "Height1=2\n",
      "Height2=4\n",
      "Breadth4\n",
      "Perimeteroftriangle= 10\n"
     ]
    }
   ],
   "source": [
    "triangle()"
   ]
  },
  {
   "cell_type": "code",
   "execution_count": null,
   "id": "4fba7faf",
   "metadata": {},
   "outputs": [],
   "source": []
  }
 ],
 "metadata": {
  "kernelspec": {
   "display_name": "Python 3 (ipykernel)",
   "language": "python",
   "name": "python3"
  },
  "language_info": {
   "codemirror_mode": {
    "name": "ipython",
    "version": 3
   },
   "file_extension": ".py",
   "mimetype": "text/x-python",
   "name": "python",
   "nbconvert_exporter": "python",
   "pygments_lexer": "ipython3",
   "version": "3.11.5"
  }
 },
 "nbformat": 4,
 "nbformat_minor": 5
}
